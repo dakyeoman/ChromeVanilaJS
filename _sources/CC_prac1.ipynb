{
  "nbformat": 4,
  "nbformat_minor": 0,
  "metadata": {
    "colab": {
      "provenance": [],
      "toc_visible": true
    },
    "kernelspec": {
      "name": "python3",
      "display_name": "Python 3"
    },
    "language_info": {
      "name": "python"
    }
  },
  "cells": [
    {
      "cell_type": "markdown",
      "metadata": {
        "id": "PvitU4g59Rmr"
      },
      "source": [
        "---\n",
        "<font color='Blue' size=\"4\">\n",
        "F37.204 컴퓨팅 핵심: 컴퓨터로 생각하기(Core Computing: Thinking with Computers)</font>\n",
        "\n",
        "---\n"
      ]
    },
    {
      "cell_type": "markdown",
      "source": [
        "# 실습: 엘리스코딩 첫 걸음"
      ],
      "metadata": {
        "id": "tnggpWyuaaAw"
      }
    },
    {
      "cell_type": "markdown",
      "source": [
        "## 시작하기\n",
        "### Problem: (함께)Hello World! 출력하기\n",
        "\n",
        "😄 print() 함수는 ( )안에 있는 값을 화면에 출력하는 기능을 합니다.\n",
        "코드를 작성하여 Output Result에서와 같이 문자열 Hello World!와 완전히 동일하게 출력하시오. 결과가 동일하게 출력되었다면 코드를 복사하여 엘리스코딩으로 가서 붙여넣기 한 후 실행시켜 동일한 결과를 출력해봅시다. 결과가 잘 출력되었다면 제출하여 점수를 받으세요.\n",
        "\n",
        "---\n",
        "Output Result\n",
        "```\n",
        "Hello World!\n",
        "```"
      ],
      "metadata": {
        "id": "dJPC9xcyS62W"
      }
    },
    {
      "cell_type": "code",
      "source": [],
      "metadata": {
        "id": "TuYMv-wiSz2W"
      },
      "execution_count": null,
      "outputs": []
    },
    {
      "cell_type": "markdown",
      "source": [
        "## 실행과 제출의 차이\n",
        "### Problem: (함께)입력된 정수에 3 더하여 출력하기\n",
        "\n",
        "😄입력된 정수에 3을 더하여 출력하시오.\n",
        "\n",
        "이 문제는 Input Sample과 Output Sample이 있습니다. Input Sample이 있다면 input( )함수를 통해 입력을 받아야 하는 문제이며, 그 결과가 Output Sample과 같이 나와야 한다는 의미입니다.\n",
        "\n",
        "Test Case-1\n",
        "---\n",
        "Input Sample\n",
        "```\n",
        "1\n",
        "```\n",
        "\n",
        "Output Sample\n",
        "```\n",
        "Input:\n",
        "4\n",
        "```\n",
        "\n",
        "Test Case-2\n",
        "---\n",
        "\n",
        "Input Sample\n",
        "```\n",
        "2\n",
        "```\n",
        "\n",
        "Output Sample\n",
        "```\n",
        "Input:\n",
        "5\n",
        "```"
      ],
      "metadata": {
        "id": "kzN0s-wn8uQ5"
      }
    },
    {
      "cell_type": "markdown",
      "source": [
        "<div align=\"center\"><img src=\"https://haesunbyun.github.io/common/images/sample2.png\" width=200></div>"
      ],
      "metadata": {
        "id": "8-idKb0JW4Om"
      }
    },
    {
      "cell_type": "code",
      "source": [],
      "metadata": {
        "id": "5vRfay3Z_kLN"
      },
      "execution_count": null,
      "outputs": []
    },
    {
      "cell_type": "markdown",
      "source": [
        "- 엘리스로 이동해봅시다.\n",
        "- 실행 버튼을 클릭하여 본인이 값을 직접 입력하거나 위 예시에서 Input Sample의 copy 버튼을 클릭하면 자동으로 값이 입력됩니다.\n",
        "- 제출 버튼은 사전에 교수자가 설정해 놓은 입력 값이 있고, 그 입력 값에 맞는 output이 나와야 정답 처리가 되는 방식입니다.\n",
        "- 이때 여러 개의 테스트 케이스가 있을 수 있으며, 문제에 제시된 Input과 Output sample과 별개로 점수 평가 과정에서는 다른 여러 개의 Input과 Output sample이 있을 수 있습니다.\n",
        "- 예를 들어, 이 문제에서  Input/Output sample은 2개이지만 제출 버튼의 평가에서는 4개의 테스트 케이스에 대해 체크하여 점수를 부여합니다.\n",
        "- 만약 일부 케이스에 대해 오답이 나올 경우에는 부분 점수가 부여됩니다."
      ],
      "metadata": {
        "id": "ob08KlCi9FaC"
      }
    },
    {
      "cell_type": "markdown",
      "source": [
        "## 셀 단위 실행 vs. 일괄 실행\n",
        "### Problem: (함께)수식으로 표현해보기\n",
        "\n",
        "😄다음을 수식으로 표현해보고 결과를 출력하시오.\n",
        "  - 정수 50을 정수 4로 나눈 몫을 정수로 구하시오.\n",
        "  - 정수 50을 정수 4로 나눈 나머지를 구하시오.\n",
        "\n",
        "---\n",
        "Output Results\n",
        "```\n",
        "12\n",
        "2\n",
        "```"
      ],
      "metadata": {
        "id": "TR6Eqs6OT_AH"
      }
    },
    {
      "cell_type": "code",
      "source": [],
      "metadata": {
        "id": "hyIJ6moiWKj1"
      },
      "execution_count": null,
      "outputs": []
    },
    {
      "cell_type": "code",
      "source": [],
      "metadata": {
        "id": "Nr1Tzw-NlpFq"
      },
      "execution_count": null,
      "outputs": []
    },
    {
      "cell_type": "markdown",
      "source": [
        "- colab의 경우 각 셀 단위에서 코드가 실행됩니다.\n",
        "- 그러나 엘리스코딩(일반적인 프로그램 실행 구조)에서는 작성된 코드가 한번에 모두 실행됩니다.\n",
        "- 따라서 colab에서 여러 개의 셀에 코드를 작성한 경우에도 엘리스코딩에서 실행시킬 때에는 문제에 속하는 모든 코드를 넣어줘야 합니다."
      ],
      "metadata": {
        "id": "zJlNJhiAlu8D"
      }
    },
    {
      "cell_type": "markdown",
      "source": [
        "## 스켈레톤 코드\n",
        "### Problem: (함께) 문자열 입력받아 출력하기\n",
        "\n",
        "😄문자열을 입력받아 출력하시오.\n",
        "\n",
        "<font color='blue'>Test Case-1</font>\n",
        "\n",
        "Input Sample\n",
        "```\n",
        "즐거워\n",
        "```\n",
        "\n",
        "Output Sample\n",
        "```\n",
        "문자열:\n",
        "출력결과: 즐거워\n",
        "```\n",
        "\n",
        "<font color='blue'>Test Case-2</font>\n",
        "\n",
        "\n",
        "Input Sample\n",
        "```\n",
        "Say! I can do it!\n",
        "```\n",
        "\n",
        "Output Sample\n",
        "```\n",
        "문자열:\n",
        "출력결과: Say! I can do it!\n",
        "```\n",
        "\n",
        "- 사전에 입력되어 있는 코드를 스켈레톤 코드라고 부릅니다.\n",
        "- 교수자가 미리 넣어 놓으며 이 코드를 기반으로 문제에서 원하는 해결책을 제시하도록 할때 넣어둡니다.\n",
        "- 코드 작성 중 스켈레톤 코드가 훼손되어 코드를 새롭게 불러오고 싶다면 오른쪽 상단에 코드 초기화 버튼을 클릭합니다. 이 때 직접 작성한 코드 또한 모두 사라지므로 주의하기 바랍니다."
      ],
      "metadata": {
        "id": "_RsvkXoAmzzf"
      }
    },
    {
      "cell_type": "code",
      "source": [],
      "metadata": {
        "id": "h_xTkCWEvojM"
      },
      "execution_count": null,
      "outputs": []
    },
    {
      "cell_type": "markdown",
      "source": [
        "## 시간 제한\n",
        "😄이용자로부터 정수를 입력받아 피보나치 수열을 출력하시오.\n",
        "\n",
        "\n",
        "피보나치 수열은 첫째 및 둘째 항이 1이며 그 뒤의 모든 항은 바로 앞 두 항의 합인 수열이다. 처음 여섯 항은 각각 1, 1, 2, 3, 5, 8 이다.\n",
        "각 테스트 케이스는 실행에 제한 시간이 설정될 수 있다.\n",
        "\n",
        "<코드 구성>\n",
        "* Input: 피보나치 수열의 몇 번째 항인지 (n)\n",
        "* Output: 피보나치 수열의 n번째 항의 값\n",
        "* Case 당 제한시간: 0.03초\n",
        "\n",
        "<font color='blue'>Test Case-1</font>\n",
        "\n",
        "Input Sample\n",
        "```\n",
        "35\n",
        "```\n",
        "\n",
        "Output Sample\n",
        "```\n",
        "Input:\n",
        "9227465\n",
        "```"
      ],
      "metadata": {
        "id": "Q9VAA-Z6-B2x"
      }
    },
    {
      "cell_type": "code",
      "source": [],
      "metadata": {
        "id": "stTqjPaW-Hbm"
      },
      "execution_count": null,
      "outputs": []
    },
    {
      "cell_type": "markdown",
      "source": [
        "## 튜터링 기능\n",
        "### Problem: (함께)😄코드에 피드백 달기\n",
        "```\n",
        "# 이 코드는 일부러 에러를 발생시킨 코드입니다.\n",
        "print('hello)\n",
        "```\n",
        "\n",
        "- 엘리스 코딩의 튜터링 기능은 튜터들이 관심있게 봐야 합니다.\n",
        "- 튜터: 엘리스의 왼쪽 상단의 튜터링 메뉴를 누르면 학생들이 작성한 코드를 볼 수 있습니다. 학생의 코드에 피드백을 적어주고 싶다면 오른쪽 상단에 수정 모드 버튼을 클릭하여 코드를 수정해주거나 피드백을 적어 줄 수 있습니다. 피드백을 붙여준 본인의 이름을 적어주세요. (예, 튜터 홍길동)\n",
        "- 학생: 튜터가 작성한 피드백을 거의 실시간으로 확인할 수 있습니다. (가끔 실시간이 아닐 때도 있어요.) 갑자기 화면에 글씨가 쓰이거나 코드가 수정되어도 놀라지 마세요. 또한 교수,조교,튜터가 쓴 피드백은 지우지 않으셔도 됩니다. 학생이 어떤 부분에서 실수했고 어려워하는지 파악하는데 도움이 됩니다.\n",
        "- 조교가 다음 문제로 넘어갔을 때 튜터들은 이 기능을 이용하여 아직 문제를 해결하지 못한 학생들의 코드에 피드백을 달아주는 일을 합니다."
      ],
      "metadata": {
        "id": "0PonZR4YrmXn"
      }
    },
    {
      "cell_type": "code",
      "source": [
        "# 이 코드는 일부러 에러를 발생시킨 코드입니다.\n",
        "print('hello)"
      ],
      "metadata": {
        "id": "gYiPMMLLs39o"
      },
      "execution_count": null,
      "outputs": []
    },
    {
      "cell_type": "markdown",
      "source": [
        "## 테스트 종료하기\n",
        "### Problem: 😄(함께) 다음 문자열을 따옴표까지 모두 나오도록 출력하시오.\n",
        "\n",
        "Output Result\n",
        "```\n",
        "끝날 때 까지 \"끝\"난게 아니다.\n",
        "```\n",
        "\n",
        "- 문제를 다 풀어서 모든 점수를 획득했다면 테스트 종료하기를 클릭해도 됩니다.\n",
        "- 단, 아직 다 풀지 못한 문제가 있다면 테스트 종료하기를 절대 클릭해서는 안됩니다. 테스트 종료하기를 클릭하지 않았다면 아직 다 풀지 못한 문제가 있더라도 응시기간 안에 풀어서 제출할 수 있습니다.\n",
        "- 하지만 테스트 종료하기를 클릭한 경우에는 셀프 재응시가 되지않게 설정해 놓았기 때문에 응시기간이 남아있어도 코드를 작성하여 제출 할 수 없습니다.\n",
        "- 응시기간이 지나면 자동으로 테스트는 종료됩니다. 따라서 문제를 다 풀었더라도 테스트 종료하기 버튼은 누르지 않아도 됩니다."
      ],
      "metadata": {
        "id": "YfIQGSYwtFAX"
      }
    },
    {
      "cell_type": "code",
      "source": [],
      "metadata": {
        "id": "qXwJPa06tvOC"
      },
      "execution_count": null,
      "outputs": []
    },
    {
      "cell_type": "markdown",
      "source": [
        "# 실습 WEEK1: 기본자료형과 입출력"
      ],
      "metadata": {
        "id": "Xi98TGBF1SRe"
      }
    },
    {
      "cell_type": "markdown",
      "source": [
        "***안내***\n",
        "\n",
        "\n",
        "- 실습 문제는 사전, 도전, 완전 실습 문제로 구성되어 있습니다.\n",
        "- 사전 실습 문제는 수업 전에 미리 풀어보시면 도움이 됩니다.\n",
        "- **<font color='blue'>도전 실습 문제는 etl>우리강좌>코딩수업>에 접속한 후, 해당 주차 문제의 소스코드를 제출하여 테스트를 통과해야 과제 점수를 받을 수 있습니다.</font>**\n",
        "- **<font color='red'>제출기한은 코딩수업(엘리스코딩)의 해당 주차 응시 기간을 확인해주세요.</font>**\n",
        "- 완전 실습 문제는 보너스 실습 문제로 생각하시면 됩니다.  도전 실습 문제를 다 풀어본 학생들이 추가적으로 풀어보시면 도움이 됩니다.\n",
        "- 사전 실습 문제와 완전 실습 문제는 수업 시간에 별도 풀이를 하지 않습니다.\n",
        "- 질문은 사전, 도전, 완전 그리고 수업과 관련된 모든 것에  대하여 교수자 or 조교 or 튜터에게 하시면 됩니다.\n",
        "- **<font color='red'>가독성을 위해 입출력 데이터에서 콜론(:) 다음에는 항상 한칸 공백이 있습니다.</font>**\n"
      ],
      "metadata": {
        "id": "BvK5dDG9vaz9"
      }
    },
    {
      "cell_type": "markdown",
      "metadata": {
        "id": "DnbSSpL_wuKS"
      },
      "source": [
        "## [사전 실습 문제]"
      ]
    },
    {
      "cell_type": "markdown",
      "source": [
        "### Problem: 수식으로 표현해보기\n",
        "\n",
        "😄다음을 수식으로 표현해보고 결과를 출력하시오.\n",
        "  - 정수 10과 정수 20을 더하시오.\n",
        "  - 정수 30에서 정수 5를 빼시오.\n",
        "  - 정수 15와 실수 7.0을 곱하시오.\n",
        "  - 정수 2를 정수 4로 나누시오.\n",
        "  - 실수 2.0을 실수 4.0으로 나누시오.\n",
        "  - 정수 50을 정수 4로 나눈 몫을 정수로 구하시오.\n",
        "  - 정수 50을 정수 4로 나눈 나머지를 구하시오.\n",
        "  - 정수 10을 정수 3으로 지수승하시오.\n",
        "\n",
        "---\n",
        "Output\n",
        "```\n",
        "30\n",
        "25\n",
        "105.0\n",
        "0.5\n",
        "0.5\n",
        "12\n",
        "2\n",
        "1000\n",
        "```"
      ],
      "metadata": {
        "id": "iEYhv1bUwuKT"
      }
    },
    {
      "cell_type": "code",
      "source": [],
      "metadata": {
        "id": "3-S0QybDwuKT"
      },
      "execution_count": null,
      "outputs": []
    },
    {
      "cell_type": "markdown",
      "source": [
        "### Problem: 문자열 출력하기\n",
        "😄 다음 문자열을 따옴표까지 모두 나오도록 출력하시오.\n",
        "\n",
        "---\n",
        "Output\n",
        "\n",
        "```\n",
        "'끝날 때 까지 \"끝\"난게 아니다.'\n",
        "```"
      ],
      "metadata": {
        "id": "ZDitIHwzwuKU"
      }
    },
    {
      "cell_type": "code",
      "source": [],
      "metadata": {
        "id": "WBojfnx6wuKU"
      },
      "execution_count": null,
      "outputs": []
    },
    {
      "cell_type": "markdown",
      "source": [
        "### Problem: 숫자요일 출력하기\n",
        "😄1234560은 각각 월화수목금토일을 의미한다. 예를 들어, 4는 목요일이다.\n",
        "오늘을 의미하는 숫자를 입력받아 30일 후에는 무슨 요일인지 숫자로 출력하는 코드를 작성하시오.\n",
        "\n",
        "---\n",
        "\n",
        "<font color='blue'>`Test case-1`</font>\n",
        "\n",
        "Input Sample\n",
        "\n",
        "```\n",
        "4\n",
        "```\n",
        "Output Sample\n",
        "```\n",
        "Input:\n",
        "Output: 6\n",
        "```\n",
        "\n",
        "\n",
        "<font color='blue'>`Test case-2`</font>\n",
        "\n",
        "Input Sample\n",
        "\n",
        "```\n",
        "2\n",
        "```\n",
        "Output Sample\n",
        "```\n",
        "Input:\n",
        "Output: 4\n",
        "```"
      ],
      "metadata": {
        "id": "DCjXEUMcwuKV"
      }
    },
    {
      "cell_type": "code",
      "source": [],
      "metadata": {
        "id": "rjM-tzHXwuKW"
      },
      "execution_count": null,
      "outputs": []
    },
    {
      "cell_type": "markdown",
      "source": [
        "### Problem: 문자열 슬라이싱\n",
        "😄`'I will be back. 인생은 아름다워.'` 문자열에서 `'아름다워'`만 추출해보시오.\n",
        "\n",
        "---\n",
        "Output\n",
        "```\n",
        "아름다워\n",
        "```"
      ],
      "metadata": {
        "id": "BgQKcWvkxFyL"
      }
    },
    {
      "cell_type": "markdown",
      "source": [
        "### Problem: 입력받아 연산하기\n",
        "😄문자열과 숫자(양수)를 입력받아 입력받은 문자열을 숫자만큼 연속으로 출력하는 코드를 작성하시오.\n",
        "\n",
        "---\n",
        "\n",
        "<font color='blue'>`Test case-1`</font>\n",
        "\n",
        "Input Sample\n",
        "```\n",
        "즐거워\n",
        "5\n",
        "```\n",
        "Output Sample\n",
        "```\n",
        "문자열:\n",
        "횟수:\n",
        "즐거워 즐거워 즐거워 즐거워 즐거워\n",
        "```\n",
        "\n",
        "<font color='blue'>`Test case-2`</font>\n",
        "\n",
        "Input Sample\n",
        "\n",
        "```\n",
        "코딩은 즐거워\n",
        "5\n",
        "```\n",
        "Output Sample\n",
        "```\n",
        "문자열:\n",
        "횟수:\n",
        "코딩은 즐거워 코딩은 즐거워 코딩은 즐거워 코딩은 즐거워 코딩은 즐거워\n",
        "```"
      ],
      "metadata": {
        "id": "map6qWRmwuKX"
      }
    },
    {
      "cell_type": "code",
      "source": [],
      "metadata": {
        "id": "qQQPjqCywuKY"
      },
      "execution_count": null,
      "outputs": []
    },
    {
      "cell_type": "markdown",
      "source": [
        "### Problem: 당신이 좋아하는 것들\n",
        "😄 좋아하는 과일, 꽃, 음료를 입력받아 그 결과를 아래와 같이 출력하는 코드를 작성하시오.\n",
        "\n",
        "---\n",
        "\n",
        "<font color='blue'>`Test case-1`</font>\n",
        "\n",
        "Input Sample\n",
        "```\n",
        "apple\n",
        "rose\n",
        "coke\n",
        "```\n",
        "Output Sample\n",
        "```\n",
        "Tell me your favorite stuff.\n",
        "Your favorite fruit is\n",
        "Your favorite flower is\n",
        "Your favorite drink is\n",
        "\n",
        "You entered: apple rose coke\n",
        "```"
      ],
      "metadata": {
        "id": "8FNhrI0EwuKY"
      }
    },
    {
      "cell_type": "code",
      "source": [],
      "metadata": {
        "id": "urss9X_UwuKZ"
      },
      "execution_count": null,
      "outputs": []
    },
    {
      "cell_type": "markdown",
      "source": [
        "### Problem: 마트 지불가격 계산하기\n",
        "😄 우유의 가격은 1850원이다. 계란 한판의 가격은 4000원이다. 모든 제품은 5%를 할인해준다. 우유 2개, 계란 한판을 구입했을 때 지불해야 할 가격을 변수 milk, egg, discount를 활용하여 코드로 작성하고 결과를 출력하시오.\n",
        "\n",
        "---\n",
        "\n",
        "Output\n",
        "```\n",
        "7315.0\n",
        "```"
      ],
      "metadata": {
        "id": "oUt0YCZbwuKb"
      }
    },
    {
      "cell_type": "code",
      "source": [],
      "metadata": {
        "id": "961ZCJvswuKb"
      },
      "execution_count": null,
      "outputs": []
    },
    {
      "cell_type": "markdown",
      "source": [
        "### Problem: 온도 변환하기\n",
        "😄화씨온도를 입력받아 섭씨온도로, 섭씨온도를 입력받아 화씨온도로 변환하여 출력하시오. 온도 변환공식은 아래와 같다.\n",
        "\n",
        "---\n",
        "\n",
        "```\n",
        "c = 5.0/9.0*(f-32.0)\n",
        "f = 9.0/5.0*c+32.0\n",
        "```\n",
        "<font color='blue'>`Test case-1`</font>\n",
        "\n",
        "Input Sample\n",
        "```\n",
        "100\n",
        "50\n",
        "```\n",
        "Output Sample\n",
        "```\n",
        "F:  \n",
        "C: 37.78\n",
        "\n",
        "C:\n",
        "F: 122.0\n",
        "```"
      ],
      "metadata": {
        "id": "MqVfV-tvwuKb"
      }
    },
    {
      "cell_type": "markdown",
      "source": [
        "### Problem: 청개구리 출력\n",
        "😄문장을 입력받아 거꾸로 출력하는 프로그램을 작성하시오.\n",
        "\n",
        "---\n",
        "\n",
        "<font color='blue'>`Test case-1`</font>\n",
        "\n",
        "Input Sample\n",
        "```\n",
        "중요한 건 꺾이지 않는 마음\n",
        "```\n",
        "Output Sample\n",
        "```\n",
        "Input:\n",
        "Output: 음마 는않 지이꺾 건 한요중\n",
        "```\n",
        "<font color='blue'>`Test case-2`</font>\n",
        "\n",
        "Input Sample\n",
        "\n",
        "```\n",
        "똑바로 읽어도 우영우 거꾸로 읽어도 우영우\n",
        "```\n",
        "Output Sample\n",
        "```\n",
        "Input:\n",
        "Output: 우영우 도어읽 로꾸거 우영우 도어읽 로바똑\n",
        "```"
      ],
      "metadata": {
        "id": "_JWm_3pSwzZj"
      }
    },
    {
      "cell_type": "markdown",
      "source": [
        "### Problem: 앵무새 프로그램\n",
        "😄조련사의 말을 따라하는 앵무새 프로그램을 작성하시오.\n",
        "\n",
        "---\n",
        "\n",
        "<font color='blue'>`Test case-1`</font>\n",
        "\n",
        "Input Sample\n",
        "```\n",
        "너 이름이 뭐니?\n",
        "난 조련사야.\n",
        "잘따라 하는구나.\n",
        "```\n",
        "Output Sample\n",
        "```\n",
        "조련사:\n",
        "앵무새: 너 이름이 뭐니?\n",
        "조련사:\n",
        "앵무새: 난 조련사야.\n",
        "조련사:\n",
        "앵무새: 잘따라 하는구나.\n",
        "```"
      ],
      "metadata": {
        "id": "Ul2BF8yrwuKc"
      }
    },
    {
      "cell_type": "code",
      "source": [],
      "metadata": {
        "id": "i-bScBYrwuKc"
      },
      "execution_count": null,
      "outputs": []
    },
    {
      "cell_type": "markdown",
      "metadata": {
        "id": "lEyrnUC0wuKa"
      },
      "source": [
        "## [도전 실습 문제]"
      ]
    },
    {
      "cell_type": "markdown",
      "source": [
        "### Problem:(함께) 수식으로 표현해보기\n",
        "😄 다음 수식을 코드로 표현해보고 결과를 출력하시오.\n",
        "\n",
        "---\n",
        "\n",
        "$ 3^0 * 8^\\frac{2}{3}$\n",
        "\n",
        "Output Result\n",
        "```\n",
        "4.0\n",
        "```"
      ],
      "metadata": {
        "id": "j3S0C8zswuKa"
      }
    },
    {
      "cell_type": "code",
      "source": [
        "3**0 * 8**(2/3)"
      ],
      "metadata": {
        "id": "hPWXOlmXwuKb",
        "outputId": "d1c76198-512b-4dae-de19-20237e036fd1",
        "colab": {
          "base_uri": "https://localhost:8080/"
        }
      },
      "execution_count": 1,
      "outputs": [
        {
          "output_type": "execute_result",
          "data": {
            "text/plain": [
              "3.9999999999999996"
            ]
          },
          "metadata": {},
          "execution_count": 1
        }
      ]
    },
    {
      "cell_type": "markdown",
      "source": [
        "### Problem: (스스로) BMI 계산 프로그램\n",
        "😄신장(cm)과 체중(kg)을 입력 받아 아래 BMI(신체질량지수) 공식을 이용하여 BMI를 계산하는 프로그램을 작성하시오. * 단위에 주의하세요.\n",
        "\n",
        "---\n",
        "\n",
        "계산공식: $ BMI = weight / height^2 $\n",
        "이 공식의 단위는 weight(kg), height(m)이다.\n",
        "\n",
        "<font color='blue'>`Test case-1`</font>\n",
        "\n",
        "Input Sample\n",
        "```\n",
        "160\n",
        "65.2\n",
        "```\n",
        "Output Sample\n",
        "```\n",
        "신장(cm):\n",
        "체중(kg):\n",
        "BMI는 25.47입니다.\n",
        "```\n",
        "<font color='blue'>`Test case-2`</font>\n",
        "\n",
        "Input Sample\n",
        "```\n",
        "170\n",
        "55.3\n",
        "```\n",
        "Output Sample\n",
        "```\n",
        "신장(cm):\n",
        "체중(kg):\n",
        "BMI는 19.13입니다.\n",
        "```"
      ],
      "metadata": {
        "id": "ct_UdJOfTowy"
      }
    },
    {
      "cell_type": "code",
      "source": [
        "height = float(input(\"신장을 입력하세요: \"))\n",
        "weight = float(input(\"체중을 입력하세요: \"))\n",
        "bmi = weight / ((height / 100) ** 2)\n",
        "print(\"BMI는\", round(bmi,2), \"입니다\")"
      ],
      "metadata": {
        "id": "GVYi3x60wuKc",
        "outputId": "24462a5b-d741-4349-aec4-726648a850c5",
        "colab": {
          "base_uri": "https://localhost:8080/"
        }
      },
      "execution_count": 20,
      "outputs": [
        {
          "output_type": "stream",
          "name": "stdout",
          "text": [
            "신장을 입력하세요: 171\n",
            "체중을 입력하세요: 79\n",
            "BMI는 27.02 입니다\n"
          ]
        }
      ]
    },
    {
      "cell_type": "markdown",
      "source": [
        "### Problem: (스스로) 여러 타입 입력받기\n",
        "😄 여러 과일의 이름을 입력 받아 과일이 몇 종류인지 출력하시오.\n",
        "\n",
        "---\n",
        "\n",
        "<font color='blue'>`Test case-1`</font>\n",
        "\n",
        "Input Sample\n",
        "```\n",
        "['바나나', '딸기', '복숭아', '키위']\n",
        "```\n",
        "Output Sample\n",
        "```\n",
        "Input:\n",
        "종류: 4\n",
        "```\n",
        "\n",
        "<font color='blue'>`Test case-2`</font>\n",
        "\n",
        "Input Sample\n",
        "```\n",
        "{'바나나':3, '딸기':5, '복숭아':8}\n",
        "```\n",
        "Output Sample\n",
        "```\n",
        "Input:\n",
        "종류: 3\n",
        "```"
      ],
      "metadata": {
        "id": "dPD3BZmiYgI2"
      }
    },
    {
      "cell_type": "code",
      "source": [
        "fruits = input(\"과일들을 입력하세요: \").split(',')\n",
        "print(fruits)\n",
        "print(\"종류: \", len(fruits))\n",
        "\n",
        "\n"
      ],
      "metadata": {
        "id": "MMx-lQupNtSH",
        "outputId": "715e4feb-69ed-46c5-fdf0-b309db4a2669",
        "colab": {
          "base_uri": "https://localhost:8080/"
        }
      },
      "execution_count": 32,
      "outputs": [
        {
          "output_type": "stream",
          "name": "stdout",
          "text": [
            "과일들을 입력하세요: 사과, 바나나, 유자\n",
            "['사과', ' 바나나', ' 유자']\n",
            "종류:  3\n"
          ]
        }
      ]
    },
    {
      "cell_type": "code",
      "source": [
        "dict_input = input(\"과일과 갯수를 입력하세요 (예: 바나나, 3): \").split(',')\n",
        "\n",
        "dict_fruits = {dict_input[i]: dict_input[i+1] for i in range(0, len(dict_input), 2)}\n",
        "\n",
        "print(\"종류: \", len(dict_fruits.keys()))"
      ],
      "metadata": {
        "id": "_KOFmZu30eqS",
        "outputId": "bfdd1a4e-85ff-481e-a9cb-3810bc9d5c45",
        "colab": {
          "base_uri": "https://localhost:8080/",
          "height": 106
        }
      },
      "execution_count": 44,
      "outputs": [
        {
          "output_type": "error",
          "ename": "SyntaxError",
          "evalue": "invalid syntax (<ipython-input-44-e6019e9f5a39>, line 5)",
          "traceback": [
            "\u001b[0;36m  File \u001b[0;32m\"<ipython-input-44-e6019e9f5a39>\"\u001b[0;36m, line \u001b[0;32m5\u001b[0m\n\u001b[0;31m    print(종류: len(dict_fruits.keys()))\u001b[0m\n\u001b[0m            ^\u001b[0m\n\u001b[0;31mSyntaxError\u001b[0m\u001b[0;31m:\u001b[0m invalid syntax\n"
          ]
        }
      ]
    },
    {
      "cell_type": "markdown",
      "metadata": {
        "id": "UKhMBnGFwuKd"
      },
      "source": [
        "## [완전 실습 문제]"
      ]
    },
    {
      "cell_type": "markdown",
      "source": [
        "### Problem: 동전 최소 개수\n",
        "😄금액을 입력받아 최소 동전의 개수를 출력하는 코드를 작성하시오. 단, 금액은 10000원 이하, 10의 배수로 입력하고, 500원, 100원, 50원, 10원의 동전이 무한개 있다고 가정한다.\n",
        "\n",
        "---\n",
        "\n",
        "<font color='blue'>`Test case-1`</font>\n",
        "\n",
        "Input Sample\n",
        "```\n",
        "9820\n",
        "```\n",
        "Output Sample\n",
        "```\n",
        "금액:\n",
        "최소 동전 개수: 24\n",
        "```\n",
        "<font color='blue'>`Test case-2`</font>\n",
        "\n",
        "Input Sample\n",
        "```\n",
        "760\n",
        "```\n",
        "Output Sample\n",
        "```\n",
        "금액:\n",
        "최소 동전 개수: 5\n",
        "```"
      ],
      "metadata": {
        "id": "P8Kn0B_8wuKd"
      }
    },
    {
      "cell_type": "markdown",
      "source": [
        "### Problem: 부가세 계산 프로그램\n",
        "😄 합계금액(정수)을 입력받고 아래 공식을 이용하여 입력받은 금액의 부가세액과 공급가액을 계산하는 프로그램을 작성하시오.\n",
        "\n",
        "\n",
        "```\n",
        "부가세액 = 합계금액 * (10/110)\n",
        "공급가액 = 합계금액 - 부가세액\n",
        "```\n",
        "---\n",
        "<font color='blue'>`Test case-1`</font>\n",
        "\n",
        "Input Sample\n",
        "```\n",
        "100000\n",
        "```\n",
        "Output Sample\n",
        "```\n",
        "합계금액:\n",
        "공급가액: 90909원\n",
        "세액: 9091원\n",
        "```\n",
        "<font color='blue'>`Test case-2`</font>\n",
        "\n",
        "Input Sample\n",
        "```\n",
        "150000\n",
        "```\n",
        "Output Sample\n",
        "```\n",
        "합계금액:\n",
        "공급가액: 136364원\n",
        "세액: 13636원\n",
        "```"
      ],
      "metadata": {
        "id": "jYRK9IscRRCI"
      }
    },
    {
      "cell_type": "code",
      "source": [],
      "metadata": {
        "id": "8hAR1_-qwuKd"
      },
      "execution_count": null,
      "outputs": []
    },
    {
      "cell_type": "markdown",
      "metadata": {
        "id": "_JXp5N1R9nYP"
      },
      "source": [
        "---\n",
        "<font color='Grey' size=\"4\">\n",
        "F37.204 컴퓨팅 핵심: 컴퓨터로 생각하기(Core Computing: Thinking with Computers)</font>\n",
        "\n",
        "---"
      ]
    }
  ]
}